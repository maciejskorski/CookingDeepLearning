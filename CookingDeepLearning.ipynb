{
 "cells": [
  {
   "cell_type": "markdown",
   "metadata": {
    "collapsed": true
   },
   "source": [
    "# What's cooking? Text classification by neural networks.\n",
    "\n",
    "The task is to guess the cuisine based on cooking receipts.\n",
    "\n",
    "Data files are provided on Kaggle https://www.kaggle.com/c/whats-cooking\n",
    "\n",
    "The solution is based on the library *scikit-learn* with the *TensorFlow* backend.\n",
    "The code shows how to train a **neural network** by *stochastic gradient descent* on the bag-of-words model, how to record and visualize training statistcs and computation grahps and how to handle imbalanced data by assigning class weights to the scoring metric.\n",
    "\n",
    "Note: the code also shows how to batch sparse matrices in TensorFlow"
   ]
  },
  {
   "cell_type": "code",
   "execution_count": 1,
   "metadata": {
    "collapsed": true
   },
   "outputs": [],
   "source": [
    "import tensorflow as tf\n",
    "import pandas as pnd\n",
    "import numpy as np\n",
    "import scipy\n",
    "import re\n",
    "import nltk\n",
    "import math\n",
    "import sklearn\n",
    "from sklearn.feature_extraction.text import CountVectorizer, TfidfTransformer, TfidfVectorizer\n",
    "from sklearn.model_selection import train_test_split\n",
    "from sklearn import metrics\n",
    "from sklearn import utils\n",
    "from matplotlib import pyplot as plt"
   ]
  },
  {
   "cell_type": "markdown",
   "metadata": {},
   "source": [
    "## Data extraction and exploration"
   ]
  },
  {
   "cell_type": "code",
   "execution_count": 2,
   "metadata": {},
   "outputs": [
    {
     "data": {
      "text/html": [
       "<div>\n",
       "<style>\n",
       "    .dataframe thead tr:only-child th {\n",
       "        text-align: right;\n",
       "    }\n",
       "\n",
       "    .dataframe thead th {\n",
       "        text-align: left;\n",
       "    }\n",
       "\n",
       "    .dataframe tbody tr th {\n",
       "        vertical-align: top;\n",
       "    }\n",
       "</style>\n",
       "<table border=\"1\" class=\"dataframe\">\n",
       "  <thead>\n",
       "    <tr style=\"text-align: right;\">\n",
       "      <th></th>\n",
       "      <th>cuisine</th>\n",
       "      <th>id</th>\n",
       "      <th>ingredients</th>\n",
       "    </tr>\n",
       "  </thead>\n",
       "  <tbody>\n",
       "    <tr>\n",
       "      <th>0</th>\n",
       "      <td>greek</td>\n",
       "      <td>10259</td>\n",
       "      <td>[romaine lettuce, black olives, grape tomatoes...</td>\n",
       "    </tr>\n",
       "    <tr>\n",
       "      <th>1</th>\n",
       "      <td>southern_us</td>\n",
       "      <td>25693</td>\n",
       "      <td>[plain flour, ground pepper, salt, tomatoes, g...</td>\n",
       "    </tr>\n",
       "    <tr>\n",
       "      <th>2</th>\n",
       "      <td>filipino</td>\n",
       "      <td>20130</td>\n",
       "      <td>[eggs, pepper, salt, mayonaise, cooking oil, g...</td>\n",
       "    </tr>\n",
       "    <tr>\n",
       "      <th>3</th>\n",
       "      <td>indian</td>\n",
       "      <td>22213</td>\n",
       "      <td>[water, vegetable oil, wheat, salt]</td>\n",
       "    </tr>\n",
       "    <tr>\n",
       "      <th>4</th>\n",
       "      <td>indian</td>\n",
       "      <td>13162</td>\n",
       "      <td>[black pepper, shallots, cornflour, cayenne pe...</td>\n",
       "    </tr>\n",
       "    <tr>\n",
       "      <th>5</th>\n",
       "      <td>jamaican</td>\n",
       "      <td>6602</td>\n",
       "      <td>[plain flour, sugar, butter, eggs, fresh ginge...</td>\n",
       "    </tr>\n",
       "    <tr>\n",
       "      <th>6</th>\n",
       "      <td>spanish</td>\n",
       "      <td>42779</td>\n",
       "      <td>[olive oil, salt, medium shrimp, pepper, garli...</td>\n",
       "    </tr>\n",
       "    <tr>\n",
       "      <th>7</th>\n",
       "      <td>italian</td>\n",
       "      <td>3735</td>\n",
       "      <td>[sugar, pistachio nuts, white almond bark, flo...</td>\n",
       "    </tr>\n",
       "    <tr>\n",
       "      <th>8</th>\n",
       "      <td>mexican</td>\n",
       "      <td>16903</td>\n",
       "      <td>[olive oil, purple onion, fresh pineapple, por...</td>\n",
       "    </tr>\n",
       "    <tr>\n",
       "      <th>9</th>\n",
       "      <td>italian</td>\n",
       "      <td>12734</td>\n",
       "      <td>[chopped tomatoes, fresh basil, garlic, extra-...</td>\n",
       "    </tr>\n",
       "  </tbody>\n",
       "</table>\n",
       "</div>"
      ],
      "text/plain": [
       "       cuisine     id                                        ingredients\n",
       "0        greek  10259  [romaine lettuce, black olives, grape tomatoes...\n",
       "1  southern_us  25693  [plain flour, ground pepper, salt, tomatoes, g...\n",
       "2     filipino  20130  [eggs, pepper, salt, mayonaise, cooking oil, g...\n",
       "3       indian  22213                [water, vegetable oil, wheat, salt]\n",
       "4       indian  13162  [black pepper, shallots, cornflour, cayenne pe...\n",
       "5     jamaican   6602  [plain flour, sugar, butter, eggs, fresh ginge...\n",
       "6      spanish  42779  [olive oil, salt, medium shrimp, pepper, garli...\n",
       "7      italian   3735  [sugar, pistachio nuts, white almond bark, flo...\n",
       "8      mexican  16903  [olive oil, purple onion, fresh pineapple, por...\n",
       "9      italian  12734  [chopped tomatoes, fresh basil, garlic, extra-..."
      ]
     },
     "execution_count": 2,
     "metadata": {},
     "output_type": "execute_result"
    }
   ],
   "source": [
    "# path to data files\n",
    "train_data_path = 'train.json'\n",
    "\n",
    "data = pnd.read_json(train_data_path)\n",
    "\n",
    "# have a look\n",
    "data[:10]"
   ]
  },
  {
   "cell_type": "code",
   "execution_count": 3,
   "metadata": {
    "collapsed": true
   },
   "outputs": [],
   "source": [
    "y = data['cuisine']\n",
    "X = data.drop(['id','cuisine'],axis=1)"
   ]
  },
  {
   "cell_type": "markdown",
   "metadata": {},
   "source": [
    "Preprocess the data, so that every row contains a comma-separated list of ingredients."
   ]
  },
  {
   "cell_type": "code",
   "execution_count": 4,
   "metadata": {},
   "outputs": [
    {
     "data": {
      "text/html": [
       "<div>\n",
       "<style>\n",
       "    .dataframe thead tr:only-child th {\n",
       "        text-align: right;\n",
       "    }\n",
       "\n",
       "    .dataframe thead th {\n",
       "        text-align: left;\n",
       "    }\n",
       "\n",
       "    .dataframe tbody tr th {\n",
       "        vertical-align: top;\n",
       "    }\n",
       "</style>\n",
       "<table border=\"1\" class=\"dataframe\">\n",
       "  <thead>\n",
       "    <tr style=\"text-align: right;\">\n",
       "      <th></th>\n",
       "      <th>ingredients</th>\n",
       "    </tr>\n",
       "  </thead>\n",
       "  <tbody>\n",
       "    <tr>\n",
       "      <th>0</th>\n",
       "      <td>romaine lettuce,black olives,grape tomatoes,ga...</td>\n",
       "    </tr>\n",
       "    <tr>\n",
       "      <th>1</th>\n",
       "      <td>plain flour,ground pepper,salt,tomatoes,ground...</td>\n",
       "    </tr>\n",
       "    <tr>\n",
       "      <th>2</th>\n",
       "      <td>eggs,pepper,salt,mayonaise,cooking oil,green c...</td>\n",
       "    </tr>\n",
       "    <tr>\n",
       "      <th>3</th>\n",
       "      <td>water,vegetable oil,wheat,salt</td>\n",
       "    </tr>\n",
       "    <tr>\n",
       "      <th>4</th>\n",
       "      <td>black pepper,shallots,cornflour,cayenne pepper...</td>\n",
       "    </tr>\n",
       "    <tr>\n",
       "      <th>5</th>\n",
       "      <td>plain flour,sugar,butter,eggs,fresh ginger roo...</td>\n",
       "    </tr>\n",
       "    <tr>\n",
       "      <th>6</th>\n",
       "      <td>olive oil,salt,medium shrimp,pepper,garlic,cho...</td>\n",
       "    </tr>\n",
       "    <tr>\n",
       "      <th>7</th>\n",
       "      <td>sugar,pistachio nuts,white almond bark,flour,v...</td>\n",
       "    </tr>\n",
       "    <tr>\n",
       "      <th>8</th>\n",
       "      <td>olive oil,purple onion,fresh pineapple,pork,po...</td>\n",
       "    </tr>\n",
       "    <tr>\n",
       "      <th>9</th>\n",
       "      <td>chopped tomatoes,fresh basil,garlic,extra-virg...</td>\n",
       "    </tr>\n",
       "  </tbody>\n",
       "</table>\n",
       "</div>"
      ],
      "text/plain": [
       "                                         ingredients\n",
       "0  romaine lettuce,black olives,grape tomatoes,ga...\n",
       "1  plain flour,ground pepper,salt,tomatoes,ground...\n",
       "2  eggs,pepper,salt,mayonaise,cooking oil,green c...\n",
       "3                     water,vegetable oil,wheat,salt\n",
       "4  black pepper,shallots,cornflour,cayenne pepper...\n",
       "5  plain flour,sugar,butter,eggs,fresh ginger roo...\n",
       "6  olive oil,salt,medium shrimp,pepper,garlic,cho...\n",
       "7  sugar,pistachio nuts,white almond bark,flour,v...\n",
       "8  olive oil,purple onion,fresh pineapple,pork,po...\n",
       "9  chopped tomatoes,fresh basil,garlic,extra-virg..."
      ]
     },
     "execution_count": 4,
     "metadata": {},
     "output_type": "execute_result"
    }
   ],
   "source": [
    "def preprocess(X):\n",
    "    X['ingredients'] = X['ingredients'].apply(lambda t: ','.join(t))\n",
    "    X['ingredients'] = X['ingredients'].astype(str)\n",
    "    return X\n",
    "\n",
    "X = preprocess(X)\n",
    "X[0:10]"
   ]
  },
  {
   "cell_type": "code",
   "execution_count": 5,
   "metadata": {},
   "outputs": [
    {
     "data": {
      "text/plain": [
       "(39774, 1)"
      ]
     },
     "execution_count": 5,
     "metadata": {},
     "output_type": "execute_result"
    }
   ],
   "source": [
    "X.shape"
   ]
  },
  {
   "cell_type": "code",
   "execution_count": 6,
   "metadata": {},
   "outputs": [
    {
     "data": {
      "image/png": "[encoded data removed]",
      "text/plain": [
       "<matplotlib.figure.Figure at 0x7fbc18943748>"
      ]
     },
     "metadata": {},
     "output_type": "display_data"
    }
   ],
   "source": [
    "tmp = pnd.DataFrame(data =  pnd.crosstab(y,1)/len(y))\n",
    "tmp.columns = ['frequency']\n",
    "tmp.plot(kind='barh')\n",
    "plt.show()"
   ]
  },
  {
   "cell_type": "markdown",
   "metadata": {},
   "source": [
    "We have ~ 40k rows of data, and 20 classes which are *highly imbalanced*. This is one issue we will fight later."
   ]
  },
  {
   "cell_type": "markdown",
   "metadata": {},
   "source": [
    "## Building the bag-of-words model"
   ]
  },
  {
   "cell_type": "code",
   "execution_count": 274,
   "metadata": {},
   "outputs": [
    {
     "name": "stdout",
     "output_type": "stream",
     "text": [
      "['romaine lettuc', 'black ol', 'grape tomato', 'garlic', 'pepper', 'purple onion', 'season', 'garbanzo bean', 'feta cheese crumbl']\n"
     ]
    }
   ],
   "source": [
    "# build a tokenizer with the use of stemming\n",
    "\n",
    "pattern = r'[^,]+'\n",
    "pattern = re.compile(pattern)\n",
    "stemmer = nltk.stem.PorterStemmer()\n",
    "def tokenize(text):\n",
    "    tokens = pattern.findall(text)\n",
    "    return [stemmer.stem(i) for i in tokens]\n",
    "\n",
    "print( tokenize(str( X.loc[0].ingredients )) )"
   ]
  },
  {
   "cell_type": "code",
   "execution_count": 569,
   "metadata": {},
   "outputs": [
    {
     "name": "stdout",
     "output_type": "stream",
     "text": [
      "Vocabulary is of size 2409\n"
     ]
    }
   ],
   "source": [
    "# build the dictionary\n",
    "\n",
    "counts = TfidfVectorizer(min_df=10,max_df=0.5,tokenizer=tokenize, norm=None, use_idf=False).fit(X['ingredients'])\n",
    "#counts = CountVectorizer(min_df=3,tokenizer=tokenize).fit(X['ingredients'])\n",
    "voc_size = len(counts.vocabulary_)\n",
    "print('Vocabulary is of size {0}'.format(voc_size))"
   ]
  },
  {
   "cell_type": "code",
   "execution_count": 570,
   "metadata": {
    "collapsed": true
   },
   "outputs": [],
   "source": [
    "# do a train-test split\n",
    "\n",
    "X_train, X_test, y_train, y_test = train_test_split(X,y,train_size=0.7,test_size=0.3,random_state=11,stratify=y)"
   ]
  },
  {
   "cell_type": "code",
   "execution_count": 571,
   "metadata": {},
   "outputs": [],
   "source": [
    "# build the document-term matrix\n",
    "\n",
    "X_train_f = counts.transform(X_train['ingredients'])\n",
    "X_test_f = counts.transform(X_test['ingredients'])"
   ]
  },
  {
   "cell_type": "code",
   "execution_count": 572,
   "metadata": {
    "collapsed": true
   },
   "outputs": [],
   "source": [
    "# encode targets\n",
    "\n",
    "class_name = y_train.unique()\n",
    "\n",
    "y_train = y_train.apply(lambda t: (class_name==t).argmax())\n",
    "y_test = y_test.apply(lambda t: (class_name==t).argmax())"
   ]
  },
  {
   "cell_type": "markdown",
   "metadata": {},
   "source": [
    "## Building a model in TensforFlow"
   ]
  },
  {
   "cell_type": "code",
   "execution_count": 706,
   "metadata": {},
   "outputs": [],
   "source": [
    "n_classes = len(class_name)\n",
    "n_features = voc_size"
   ]
  },
  {
   "cell_type": "code",
   "execution_count": 707,
   "metadata": {},
   "outputs": [],
   "source": [
    "# lunch the session, reset the graph\n",
    "tf.reset_default_graph()\n",
    "sess = tf.InteractiveSession()\n",
    "\n",
    "# build the model\n",
    "tf.set_random_seed(13)\n",
    "\n",
    "# network parameters\n",
    "C_HIDDEN1 = 600\n",
    "C_HIDDEN2 = 100 \n",
    "C_2Layer = False \n",
    "\n",
    "with tf.name_scope('inputs'):\n",
    "    # note: we will be using batches with the size specificied later - leave this dimension unknown for now\n",
    "    tf_X = tf.sparse_placeholder(shape=[None,n_features],dtype=tf.float32,name='X')\n",
    "    tf_y = tf.placeholder(shape=[None],dtype=tf.int32,name='y') # labels\n",
    "\n",
    "with tf.name_scope('model_weights'):\n",
    "    if C_2Layer == False:\n",
    "        C_HIDDEN2 = C_HIDDEN1\n",
    "    # note: intitializing big weights - e.g. ones - gives bad convergence !!!\n",
    "    W1 = tf.Variable(tf.random_normal(shape=[n_features, C_HIDDEN1],stddev=0.05), name='W1')\n",
    "    b1 = tf.Variable(tf.zeros(shape=[C_HIDDEN1]),dtype=tf.float32, name='b1')\n",
    "\n",
    "    W2 = tf.Variable(tf.random_normal(shape=[C_HIDDEN1, C_HIDDEN2], stddev = 0.05), name='W2')\n",
    "    b2 = tf.Variable(tf.zeros(shape=[C_HIDDEN2]),dtype=tf.float32, name='b2')\n",
    "    \n",
    "    W3 = tf.Variable(tf.random_normal(shape=[C_HIDDEN2, n_classes], stddev=0.05), name='W3')\n",
    "    b3 = tf.Variable(tf.zeros(shape=[n_classes]),dtype=tf.float32, name='b3')\n",
    "\n",
    "with tf.name_scope('hidden-layer'):\n",
    "    # transform the feature input \n",
    "    hidden_out = tf.add( tf.sparse_tensor_dense_matmul(tf_X, W1), b1)\n",
    "    # apply the (first) rectifier\n",
    "    hidden_out = tf.nn.relu(hidden_out)\n",
    "    if C_2Layer:\n",
    "        # project to the next layer\n",
    "        hidden_out = tf.add( tf.matmul(hidden_out, W2), b2)   \n",
    "        # apply the rectifier\n",
    "        hidden_out = tf.nn.relu(hidden_out)\n",
    "    # transform to the output shape \n",
    "    logits = tf.add(tf.matmul(hidden_out, W3),b3)\n",
    "\n",
    "with tf.name_scope('class_weights'):\n",
    "    # define class weights - uniform for now!\n",
    "    w_class = tf.Variable(np.ones(n_classes).reshape(-1,1),dtype=np.float32,name='class_weights',trainable=False) \n",
    "    \n",
    "with tf.name_scope('loss'):\n",
    "    labels = tf.one_hot(tf_y,n_classes)\n",
    "    weights = tf.reduce_sum( tf.matmul(labels, w_class), 1 ) # dim = [batch_size]\n",
    "    entropy = tf.losses.softmax_cross_entropy(logits=logits,onehot_labels=labels, weights=weights)\n",
    "    regularizer = tf.contrib.layers.l2_regularizer(scale=1e-5)\n",
    "    weights = [W1,W3]\n",
    "    reg_penalty = tf.contrib.layers.apply_regularization(regularizer, weights)\n",
    "    loss = entropy  + reg_penalty\n",
    "\n",
    "with tf.name_scope('optimization'):\n",
    "    # set the auxiliary global step count\n",
    "    global_step = tf.Variable(0,trainable=False)\n",
    "    learn_rate = tf.Variable(0.05,trainable=False)\n",
    "    # define the optimization algorithm with a fixed learning rate\n",
    "    optimizer = tf.train.GradientDescentOptimizer(learning_rate=learn_rate).minimize(loss, global_step=global_step)"
   ]
  },
  {
   "cell_type": "code",
   "execution_count": 708,
   "metadata": {
    "collapsed": true
   },
   "outputs": [],
   "source": [
    "# read data in batches in a cyclic way \n",
    "\n",
    "# we will be unziping a large sparse matrix in batches, to keep the memory usage low\n",
    "\n",
    "# note the data has been already shuffled when doing train/test split)\n",
    "\n",
    "class DataCyclicBatches():\n",
    "    \n",
    "    def __init__(self, batch_size, n_samples, X, y, remainder=False):\n",
    "        self.step = 0\n",
    "        self.batch_size = batch_size\n",
    "        self.n_samples = n_samples\n",
    "        if remainder:\n",
    "            self.n_batch = math.ceil( n_samples / batch_size )\n",
    "        else:\n",
    "            self.n_batch = int( n_samples / batch_size )\n",
    "        self.X = X\n",
    "        self.y = y\n",
    "        self.remainder = remainder\n",
    "        return None\n",
    "\n",
    "    def get_next(self):\n",
    "        if self.step >= self.n_batch:\n",
    "            self.step = 0\n",
    "        start = self.step * self.batch_size\n",
    "        end = min((self.step+1) * self.batch_size, self.n_samples)\n",
    "        self.step = self.step+1        \n",
    "        return self.X[start:end], self.y[start:end]        "
   ]
  },
  {
   "cell_type": "code",
   "execution_count": 709,
   "metadata": {
    "collapsed": true
   },
   "outputs": [],
   "source": [
    "# model testing \n",
    "\n",
    "def preds(mini_batch_size=1000):\n",
    "    # note: this keeps the memory usage low, by unziping the sparse feature matrix in batches\n",
    "    total_score = 0\n",
    "    preds = []\n",
    "    test_batches = DataCyclicBatches(batch_size=mini_batch_size, n_samples=X_test_f.shape[0],\n",
    "                                         X = X_test_f, y = y_test, remainder=True)\n",
    "    for i in range(test_batches.n_batch): \n",
    "        X_b, y_b = test_batches.get_next()\n",
    "        with tf.name_scope('predictions'):\n",
    "            # !!! wrap the sparse matrix (TensorFlow don't accept sparse matrix directly)\n",
    "            tmp = scipy.sparse.coo_matrix(X_b)\n",
    "            X_b_sparse = tf.SparseTensorValue(indices=np.array([tmp.row, tmp.col]).T,\n",
    "                                              values=tmp.data,dense_shape=tmp.shape)\n",
    "            _, logits_batch = sess.run([loss, logits], feed_dict={tf_X:X_b_sparse,tf_y:y_b})\n",
    "            odds = tf.nn.softmax(logits_batch)\n",
    "            heaviest = sess.run(tf.argmax( odds, 1))\n",
    "        preds.append(heaviest)\n",
    "    return preds"
   ]
  },
  {
   "cell_type": "code",
   "execution_count": 710,
   "metadata": {
    "collapsed": true
   },
   "outputs": [],
   "source": [
    "# model training and evaluation\n",
    "\n",
    "test_accuracy = tf.Variable(0,dtype=tf.float32,trainable=False)\n",
    "\n",
    "with tf.name_scope('summary'):\n",
    "    train_summ = tf.summary.scalar('train_loss', loss)\n",
    "    test_summ = tf.summary.scalar('test_accuracy', test_accuracy)\n",
    "\n",
    "def train(mini_batch_size=256,rate=1,n_epochs=25, shuffle=False, record=True):\n",
    "    # set the larning rage\n",
    "    sess.run(learn_rate.assign(rate))\n",
    "    # start learning\n",
    "    train_batches = DataCyclicBatches(batch_size=mini_batch_size, n_samples=X_train_f.shape[0],\n",
    "                                         X = X_train_f, y = y_train)\n",
    "    for _ in range(n_epochs):\n",
    "        # do a full pass over data\n",
    "        for i in range(train_batches.n_batch): \n",
    "            X_b, y_b = train_batches.get_next()\n",
    "            tmp = scipy.sparse.coo_matrix(X_b)\n",
    "            X_b_sparse = tf.SparseTensorValue(indices=np.array([tmp.row, tmp.col]).T,\n",
    "                                              values=tmp.data,dense_shape=tmp.shape)\n",
    "            summary,_, train_loss = sess.run([train_summ,optimizer,loss],feed_dict={tf_X:X_b_sparse,tf_y:y_b})\n",
    "        # record training score\n",
    "        if record:\n",
    "            summary_writer.add_summary(summary, global_step.eval())\n",
    "        # compute and record testing score\n",
    "        if record:\n",
    "            y_pred = np.concatenate( preds() )\n",
    "            _ = sess.run(test_accuracy.assign(f1_score()))\n",
    "            summary = sess.run(test_summ)\n",
    "            summary_writer.add_summary(summary, global_step.eval())    \n",
    "    return None"
   ]
  },
  {
   "cell_type": "markdown",
   "metadata": {},
   "source": [
    "## Evaluation\n",
    "\n",
    "Since the classes are imbalanced, the more relevant score than accuracy is f1 score agregated on the class level (*macro*). This gives the estimate of how the model performs accorss the classes. "
   ]
  },
  {
   "cell_type": "code",
   "execution_count": 711,
   "metadata": {},
   "outputs": [],
   "source": [
    "def f1_score():\n",
    "    y_pred = np.concatenate( preds() )\n",
    "    return metrics.f1_score(y_test,y_pred,average='macro')"
   ]
  },
  {
   "cell_type": "markdown",
   "metadata": {},
   "source": [
    "Finally we can train and evaluate the network."
   ]
  },
  {
   "cell_type": "code",
   "execution_count": 815,
   "metadata": {},
   "outputs": [
    {
     "name": "stdout",
     "output_type": "stream",
     "text": [
      "Training...\n",
      "Evaluating\n",
      "F1-score (micro-averaged)=0.7679544121344172\n",
      "F1-score (macro-averaged)=0.6908707446375708\n"
     ]
    }
   ],
   "source": [
    "# intialize\n",
    "sess.run(tf.global_variables_initializer())\n",
    "\n",
    "# enable recording\n",
    "summary_writer = tf.summary.FileWriter('./neural', sess.graph)\n",
    "\n",
    "# disable warnings for undefined f1-score - will be replaced by 0\n",
    "import warnings\n",
    "warnings.filterwarnings(\"ignore\", category= sklearn.exceptions.UndefinedMetricWarning)\n",
    "\n",
    "# train and evaluate\n",
    "print('Training...')\n",
    "C_HIDDEN1 = 500\n",
    "train(rate=0.75,mini_batch_size=256,n_epochs=20, record=False)\n",
    "\n",
    "print('Evaluating')\n",
    "y_pred = np.concatenate( preds() )\n",
    "print('F1-score (micro-averaged)={0}'.format( metrics.f1_score(y_test,y_pred,average='micro')))\n",
    "print('F1-score (macro-averaged)={0}'.format( f1_score()))"
   ]
  },
  {
   "cell_type": "markdown",
   "metadata": {},
   "source": [
    "We can download and plot the recored training and testing statistics using the Tensorboard tool (in Tensorboard, they are interactive though)"
   ]
  },
  {
   "cell_type": "code",
   "execution_count": 618,
   "metadata": {},
   "outputs": [
    {
     "data": {
      "image/png": "[encoded data removed]",
      "text/plain": [
       "<matplotlib.figure.Figure at 0x7fbac21bdd68>"
      ]
     },
     "metadata": {},
     "output_type": "display_data"
    }
   ],
   "source": [
    "import os\n",
    "\n",
    "fig = plt.figure(figsize=[20,5])\n",
    "\n",
    "ax = fig.add_subplot(121)\n",
    "ax.set_xlabel('n_steps')\n",
    "ax.set_ylabel('test f1-score (macro)')\n",
    "tmp = pnd.read_csv('test_accuracy.csv',header=0)\n",
    "ax.plot(tmp['Step'],tmp['Value'],'red')\n",
    "\n",
    "ax = fig.add_subplot(122)\n",
    "ax.set_xlabel('n_steps')\n",
    "ax.set_ylabel('train loss')\n",
    "tmp = pnd.read_csv('train_loss.csv',header=0)\n",
    "ax.plot(tmp['Step'],tmp['Value'])\n",
    "\n",
    "plt.show()"
   ]
  },
  {
   "cell_type": "markdown",
   "metadata": {},
   "source": [
    "Accuracy accross the classes is illustrated by the confusion matrix, ploted in blue-red scale below."
   ]
  },
  {
   "cell_type": "code",
   "execution_count": 819,
   "metadata": {},
   "outputs": [
    {
     "data": {
      "image/png": "[encoded data removed]",
      "text/plain": [
       "<matplotlib.figure.Figure at 0x7fba2bbc5d30>"
      ]
     },
     "metadata": {},
     "output_type": "display_data"
    }
   ],
   "source": [
    "def report_confusion():\n",
    "    tmp = np.float32( metrics.confusion_matrix(y_test, y_pred)) \n",
    "    for i in range(tmp.shape[0]):\n",
    "        t = tmp[i].sum()\n",
    "        tmp[i] = tmp[i]/t\n",
    "\n",
    "    fig = plt.figure()\n",
    "    ax = fig.add_subplot(111)\n",
    "    cax = ax.matshow(tmp, vmin=0.1, vmax=0.7)\n",
    "    fig.colorbar(cax)\n",
    "    ticks = np.arange(0,n_classes,1)\n",
    "    ax.set_xticks(ticks)\n",
    "    ax.set_yticks(ticks)\n",
    "    ax.set_xticklabels(class_name, rotation=90)\n",
    "    ax.set_yticklabels(class_name)\n",
    "    plt.show()\n",
    "    \n",
    "report_confusion()"
   ]
  },
  {
   "cell_type": "markdown",
   "metadata": {},
   "source": [
    "We see that *frequent classes are often consufed*, e.g. italian, southern_us, french."
   ]
  },
  {
   "cell_type": "markdown",
   "metadata": {},
   "source": [
    "## Handling imbalanced data - class weights\n",
    "\n",
    "By assigning smaller weights to more common classes we can trade errors, which otherwise concentrate on majority classes."
   ]
  },
  {
   "cell_type": "code",
   "execution_count": 822,
   "metadata": {},
   "outputs": [
    {
     "name": "stdout",
     "output_type": "stream",
     "text": [
      "F1-score (micro)=0.7626749350540518\n",
      "F1-score (macro)=0.6904117275916817\n"
     ]
    }
   ],
   "source": [
    "sess.run(tf.global_variables_initializer())\n",
    "\n",
    "summary_writer = tf.summary.FileWriter('./neural', sess.graph)\n",
    "\n",
    "# modify the weights\n",
    "freq_classes = pnd.crosstab(y,1)\n",
    "freq_classes = freq_classes.loc[class_name] # consistent order\n",
    "tmp = np.array(1/freq_classes)**0.6\n",
    "sess.run(w_class.assign( tmp/tmp.sum()*n_classes))\n",
    "\n",
    "C_HIDDEN1 = 600\n",
    "\n",
    "train(rate=0.5, n_epochs=60, mini_batch_size=512,record=False)\n",
    "\n",
    "y_pred = np.concatenate( preds() )\n",
    "print('F1-score (micro)={0}'.format( metrics.f1_score(y_test,y_pred,average='micro')))\n",
    "print('F1-score (macro)={0}'.format( metrics.f1_score(y_test,y_pred,average='macro')))"
   ]
  },
  {
   "cell_type": "code",
   "execution_count": 821,
   "metadata": {},
   "outputs": [
    {
     "data": {
      "image/png": "[encoded data removed]",
      "text/plain": [
       "<matplotlib.figure.Figure at 0x7fba2d1365c0>"
      ]
     },
     "metadata": {},
     "output_type": "display_data"
    }
   ],
   "source": [
    "report_confusion()"
   ]
  },
  {
   "cell_type": "markdown",
   "metadata": {},
   "source": [
    "Now the errors in the confusion matrix are distributed more uniformly. This shows that by modifying class weights we can improve the classifier."
   ]
  },
  {
   "cell_type": "code",
   "execution_count": null,
   "metadata": {
    "collapsed": true
   },
   "outputs": [],
   "source": [
    "sess.close()"
   ]
  }
 ],
 "metadata": {
  "kernelspec": {
   "display_name": "Python 3",
   "language": "python",
   "name": "python3"
  },
  "language_info": {
   "codemirror_mode": {
    "name": "ipython",
    "version": 3
   },
   "file_extension": ".py",
   "mimetype": "text/x-python",
   "name": "python",
   "nbconvert_exporter": "python",
   "pygments_lexer": "ipython3",
   "version": "3.5.2"
  }
 },
 "nbformat": 4,
 "nbformat_minor": 2
}
